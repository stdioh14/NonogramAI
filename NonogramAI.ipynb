{
 "cells": [
  {
   "cell_type": "markdown",
   "metadata": {},
   "source": [
    "## Inteligență Artificială - Tema 1\n",
    " - Alexandru-Marian Belbu"
   ]
  },
  {
   "cell_type": "markdown",
   "metadata": {},
   "source": [
    "#### Functia de citire a json-ului"
   ]
  },
  {
   "cell_type": "code",
   "execution_count": 1,
   "metadata": {},
   "outputs": [
    {
     "name": "stdout",
     "output_type": "stream",
     "text": [
      "Numarul total de celule negre: 13\n",
      "{'name': 'smile', 'height': 5, 'width': 5, 'rows': [[2, 2], [2, 2], [], [1, 1], [3]], 'columns': [[2, 1], [2, 1], [1], [2, 1], [2, 1]], 'total_black': 13}\n"
     ]
    }
   ],
   "source": [
    "import json\n",
    "import os\n",
    "\n",
    "\n",
    "\n",
    "def read_json(test_name):\n",
    "    path = os.path.join(\"./tests\", test_name + \".json\")\n",
    "    d = json.load(open(path))\n",
    "\n",
    "    total_black = 0\n",
    "    for i in range(d[\"height\"]):\n",
    "        constraint = d[\"rows\"][i]\n",
    "        for value in constraint:\n",
    "            total_black = total_black + value\n",
    "    print(\"Numarul total de celule negre:\",total_black)\n",
    "\n",
    "    d[\"total_black\"] = total_black\n",
    "\n",
    "    return d\n",
    "\n",
    "\n",
    "game = read_json(\"test1\")\n",
    "print(game)\n",
    "\n"
   ]
  },
  {
   "cell_type": "markdown",
   "metadata": {},
   "source": [
    "#### Crearea unei functii care sa creeze nodul root\n",
    "\n",
    "Un nod va fi de tipul tabel | nr_celule_negre  (acest lucru ajuta mai tarziu pentru a nu verifica de fiecare data daca un nod este valid sau nu)"
   ]
  },
  {
   "cell_type": "code",
   "execution_count": 2,
   "metadata": {},
   "outputs": [
    {
     "name": "stdout",
     "output_type": "stream",
     "text": [
      "([[False, False, False, False, False], [False, False, False, False, False], [False, False, False, False, False], [False, False, False, False, False], [False, False, False, False, False]], 0)\n"
     ]
    }
   ],
   "source": [
    "def create_root(height = game[\"height\"], width = game[\"width\"]):\n",
    "    return ([[False for _ in range(width)] for _ in range(height)], 0)\n",
    "\n",
    "print(create_root())"
   ]
  },
  {
   "cell_type": "markdown",
   "metadata": {},
   "source": [
    "#### Generarea vecinilor\n",
    "Vecinul unui nod Node(Table, Crt_Black) sunt toate nodurile care au numarul de celule negre (Crt_Black + 1)\n",
    "Cu toate acestea, pentru a pastra un numar relativ acceptabil de vecini verific doar daca depasesc numarul maxim de celule negre pe linii conform constrangerilor"
   ]
  },
  {
   "cell_type": "code",
   "execution_count": 3,
   "metadata": {},
   "outputs": [
    {
     "name": "stdout",
     "output_type": "stream",
     "text": [
      "Vecinul 1 al lui root:\n",
      "[True, False, False, False, False]\n",
      "[False, False, False, False, False]\n",
      "[False, False, False, False, False]\n",
      "[False, False, False, False, False]\n",
      "[False, False, False, False, False]\n",
      "\n",
      "\n",
      "Vecinul 2 al lui root:\n",
      "[False, True, False, False, False]\n",
      "[False, False, False, False, False]\n",
      "[False, False, False, False, False]\n",
      "[False, False, False, False, False]\n",
      "[False, False, False, False, False]\n",
      "...................................\n",
      "\n"
     ]
    }
   ],
   "source": [
    "import copy\n",
    "\n",
    "def generate_neighbours(table):\n",
    "    new_tables = []\n",
    "    for i in range(game[\"height\"]):\n",
    "        constraint = game[\"rows\"][i]\n",
    "        line_black = sum(constraint)\n",
    "        nr_black = sum(table[i])\n",
    "        if nr_black >= line_black:\n",
    "            continue\n",
    "        for j in range(game[\"width\"]):\n",
    "            if not table[i][j]:\n",
    "                new_table = copy.deepcopy(table)\n",
    "                new_table[i][j] = True\n",
    "                new_tables.append(new_table)\n",
    "    return new_tables\n",
    "\n",
    "\n",
    "def get_neighbours(node):\n",
    "    (table, nr_black) = node\n",
    "    if nr_black == game[\"total_black\"]:\n",
    "        return []\n",
    "    new_tables = generate_neighbours(table)\n",
    "    rez = list(map(lambda x: (x, nr_black + 1), new_tables))\n",
    "    return rez\n",
    "\n",
    "\n",
    "neighbours = get_neighbours(create_root())\n",
    "print(\"Vecinul 1 al lui root:\")\n",
    "for row in neighbours[0][0]:\n",
    "    print(row)\n",
    "print(\"\\n\")\n",
    "print(\"Vecinul 2 al lui root:\")\n",
    "for row in neighbours[1][0]:\n",
    "    print(row)\n",
    "print(\"...................................\\n\")"
   ]
  },
  {
   "cell_type": "markdown",
   "metadata": {},
   "source": [
    "#### Verificarea solutiei\n",
    "\n",
    "Pentru a valida o solutie pentru aceasta problema este nevoie de verificare constrangerilor pe toate liniile, respectiv toate coloanele"
   ]
  },
  {
   "cell_type": "code",
   "execution_count": 6,
   "metadata": {},
   "outputs": [
    {
     "name": "stdout",
     "output_type": "stream",
     "text": [
      "Check true solution: True\n",
      "Check empty node: False\n"
     ]
    }
   ],
   "source": [
    "def check_valid_cols(table):\n",
    "    for col in range(game[\"width\"]):\n",
    "        constraints = game[\"columns\"][col]\n",
    "        i = 0\n",
    "        while i < game[\"height\"]:\n",
    "            if not constraints:\n",
    "                while i < game[\"height\"]:\n",
    "                    if table[i][col]:\n",
    "                        return False\n",
    "                    i = i + 1\n",
    "                break\n",
    "            if table[i][col]:\n",
    "                nr_blocks = 0\n",
    "                while i < game[\"height\"] and table[i][col]:\n",
    "                    nr_blocks = nr_blocks + 1\n",
    "                    i = i + 1\n",
    "                if nr_blocks == constraints[0]:\n",
    "                    constraints = constraints[1:]\n",
    "                    continue\n",
    "                else:\n",
    "                    return False\n",
    "            else:\n",
    "                while i < game[\"height\"] and not table[i][col]:\n",
    "                    i = i + 1\n",
    "        if constraints:\n",
    "            return False\n",
    "    return True\n",
    "\n",
    "def check_valid_lines(table):\n",
    "    for l in range(game[\"height\"]):\n",
    "        constraints = game[\"rows\"][l]\n",
    "        i = 0\n",
    "        while i < game[\"width\"]:\n",
    "            if not constraints:\n",
    "                while i < game[\"width\"]:\n",
    "                    if table[l][i]:\n",
    "                        return False\n",
    "                    i = i + 1\n",
    "                break\n",
    "            if table[l][i]:\n",
    "                nr_blocks = 0\n",
    "                while i < game[\"width\"] and table[l][i]:\n",
    "                    nr_blocks = nr_blocks + 1\n",
    "                    i = i + 1\n",
    "                if nr_blocks == constraints[0]:\n",
    "                    constraints = constraints[1:]\n",
    "                    continue\n",
    "                else:\n",
    "                    return False\n",
    "            else:\n",
    "                while i < game[\"width\"] and not table[l][i]:\n",
    "                    i = i + 1\n",
    "        if constraints:\n",
    "            return False\n",
    "    return True\n",
    "\n",
    "\n",
    "def check_solution(node):\n",
    "    (table, nr_black) = node\n",
    "    if nr_black != game[\"total_black\"]:\n",
    "        return False\n",
    "    return check_valid_lines(table) and check_valid_cols(table)\n",
    "\n",
    "\n",
    "# Aceasta este solutia unica pentru testul 1 (smile)\n",
    "true_solution = ([[True, True, False, True, True], [True, True, False, True, True], [False, False, False, False, False], [True, False, False, False, True], [False, True, True, True, False]], 13)\n",
    "print(\"Check true solution:\", check_solution(true_solution))\n",
    "\n",
    "print(\"Check empty node:\", check_solution(create_root()))\n"
   ]
  },
  {
   "cell_type": "markdown",
   "metadata": {},
   "source": [
    "#### Implementare pentru id-ul unui nod (este nevoie pentru ca un tuplu tabel - int nu are un hashcode pentru a putea fi pus intr-un dictionar)"
   ]
  },
  {
   "cell_type": "code",
   "execution_count": 7,
   "metadata": {},
   "outputs": [
    {
     "name": "stdout",
     "output_type": "stream",
     "text": [
      "ID empty node:     bbbbbbbbbbbbbbbbbbbbbbbbb\n",
      "ID true solution:  aabaaaabaabbbbbabbbabaaab\n"
     ]
    }
   ],
   "source": [
    "def get_id(node):\n",
    "    hashc = \"\"\n",
    "    for i in range(game[\"height\"]):\n",
    "        for j in range(game[\"width\"]):\n",
    "            if node[0][i][j]:\n",
    "                hashc = hashc + 'a'\n",
    "            else:\n",
    "                hashc = hashc + 'b'\n",
    "    return hashc\n",
    "\n",
    "print(\"ID empty node:    \", get_id(create_root())) \n",
    "print(\"ID true solution: \", get_id(true_solution))"
   ]
  },
  {
   "cell_type": "markdown",
   "metadata": {},
   "source": [
    "#### Implementarea BFS-ului\n",
    "\n",
    "Dezavantajele acestei implementari este faptul ca trebuie create aproape tot arborele de \"solutii intermediare\" pentru a ajunge la solutia problemei\n",
    "Acest lucru duce la folosirea memoriei intr-un mod ineficient cat si la un timp de executie indelungat"
   ]
  },
  {
   "cell_type": "code",
   "execution_count": 8,
   "metadata": {},
   "outputs": [
    {
     "name": "stdout",
     "output_type": "stream",
     "text": [
      "([[True, True, False, True, True], [True, True, False, True, True], [False, False, False, False, False], [True, False, False, False, True], [False, True, True, True, False]], 13)\n"
     ]
    }
   ],
   "source": [
    "def solve_bfs():\n",
    "    queue = [create_root()]\n",
    "    visited = {}\n",
    "    while queue:\n",
    "        node = queue[0]\n",
    "        queue.pop(0)\n",
    "        visited[get_id(node)] = True\n",
    "        neighbours = get_neighbours(node)\n",
    "        for neighbour in neighbours:\n",
    "            if check_solution(neighbour):\n",
    "                return neighbour\n",
    "            else:\n",
    "                id_neighbour = get_id(neighbour)\n",
    "                if id_neighbour not in visited:\n",
    "                    visited[id_neighbour] = True\n",
    "                    queue.append(neighbour)\n",
    "    return None\n",
    "\n",
    "\n",
    "print(solve_bfs())"
   ]
  },
  {
   "cell_type": "markdown",
   "metadata": {},
   "source": [
    "#### Implementare DFS\n",
    "\n",
    "Aceasta solutie se dovedeste a fi mai utila decat bfs pe motiv ca pe acest test solutia dupa cum au fost creati vecinii se afla in prima parte a arborelui (partea stanga a arborelui mai exact)\n",
    "Implementarea este eficienta dpdv al memoriei pe motiv ca se vor pastra in memorie aproximativ (depth * tabele) zone de memorie (mai mult pentru ca se creaza si vecinii fiecarui nod de pe \"inaltimea arborelui\" )"
   ]
  },
  {
   "cell_type": "code",
   "execution_count": 9,
   "metadata": {},
   "outputs": [
    {
     "name": "stdout",
     "output_type": "stream",
     "text": [
      "([[True, True, False, True, True], [True, True, False, True, True], [False, False, False, False, False], [True, False, False, False, True], [False, True, True, True, False]], 13)\n"
     ]
    }
   ],
   "source": [
    "def dfs(node, visited):\n",
    "    if(check_solution(node)):\n",
    "        return node\n",
    "    neighbours = get_neighbours(node)\n",
    "    for neighbour in neighbours:\n",
    "        neighbour_id = get_id(neighbour)\n",
    "        if neighbour_id in visited:\n",
    "            continue\n",
    "        visited[neighbour_id] = True \n",
    "        rez = dfs(neighbour, visited)\n",
    "        if rez:\n",
    "            return rez\n",
    "    return None\n",
    "\n",
    "\n",
    "def solve_dfs():\n",
    "    root = create_root()\n",
    "    visited = {}\n",
    "    return dfs(root, visited)\n",
    "\n",
    "print(solve_dfs())"
   ]
  },
  {
   "cell_type": "markdown",
   "metadata": {},
   "source": [
    "#### Implementare Iterative Deepening\n",
    "\n",
    "Se poate observa ca aceasta implementare este cea mai putin avantajoasa (cand sti exact adancimea la care se afla solutia)\n",
    "Se vede cu ochiul liber ca este mult mai dezavantajoasa si decat bfs (ceea ce este si normal) pentru ca va cauta cam in acelasi numar de noduri ca si bfs-ul (si chiar mai multi pentru ca trebuie repeata functia cu adancime din ce in ce mai mare deci cu cat un nod este \"mai sus\" in arbore (mai aproape de root) cu atat mai multe vizitari ale implementarii va avea)"
   ]
  },
  {
   "cell_type": "code",
   "execution_count": 10,
   "metadata": {},
   "outputs": [
    {
     "name": "stdout",
     "output_type": "stream",
     "text": [
      "([[True, True, False, True, True], [True, True, False, True, True], [False, False, False, False, False], [True, False, False, False, True], [False, True, True, True, False]], 13)\n"
     ]
    }
   ],
   "source": [
    "def dfs_iterative(node, depth, visited):\n",
    "\n",
    "    if depth == 0:\n",
    "        return None\n",
    "    depth = depth - 1 \n",
    "    if(check_solution(node)):\n",
    "        return node\n",
    "    neighbours = get_neighbours(node)\n",
    "    for neighbour in neighbours:\n",
    "        neighbour_id = get_id(neighbour)\n",
    "        if neighbour_id in visited:\n",
    "            continue\n",
    "        visited[neighbour_id] = True \n",
    "        rez = dfs_iterative(neighbour, depth, visited)\n",
    "        if rez:\n",
    "            return rez\n",
    "    return None\n",
    "\n",
    "\n",
    "def solve_iterative():\n",
    "    root = create_root()\n",
    "    depth = 1\n",
    "    while True:\n",
    "        visited = {}\n",
    "        sol = dfs_iterative(root, depth, visited)\n",
    "        if sol:\n",
    "            return sol\n",
    "        depth = depth + 1\n",
    "\n",
    "print(solve_iterative())\n",
    "\n",
    "    "
   ]
  },
  {
   "cell_type": "markdown",
   "metadata": {},
   "source": [
    "#### Crearea functiilor euristice:\n",
    "\n",
    "Am decis ca functia euristica sa se bazeze pe numarul de grupuri corecte si posibilitatea continuarii solutiei (odata nr de grupuri de pe linii, nr de grupuri pe coloana, si apoi combinat)"
   ]
  },
  {
   "cell_type": "code",
   "execution_count": 11,
   "metadata": {},
   "outputs": [],
   "source": [
    "INFINITE = 100000000\n",
    "\n",
    "\n",
    "def get_col_score(table, col ,constraint):\n",
    "    i = 0\n",
    "    score = 0.0\n",
    "\n",
    "    nr_constraint = len(constraint)\n",
    "\n",
    "    while i < game[\"height\"]:\n",
    "        if table[i][col]:\n",
    "            if not constraint:\n",
    "                return INFINITE\n",
    "            else:\n",
    "                nr_black = 0\n",
    "                while i < game[\"height\"] and table[i][col]:\n",
    "                    nr_black = nr_black + 1\n",
    "                    i = i + 1\n",
    "                if nr_black == constraint[0]:\n",
    "                    score = score + float(constraint[0])\n",
    "                    constraint = constraint[1:]\n",
    "                    if i == game[\"height\"] and constraint:\n",
    "                        return INFINITE\n",
    "                    continue\n",
    "                elif nr_black < constraint[0]:\n",
    "                    needed_space = constraint[0] - nr_black + len(constraint[1:]) + sum(constraint[1:])\n",
    "                    while i < game[\"height\"] and not table[i][col]:\n",
    "                        needed_space = needed_space - 1\n",
    "                        i = i + 1\n",
    "                    if needed_space <= 0 and i == game[\"height\"]:\n",
    "                        return score + float(nr_black)\n",
    "                    elif needed_space > 0 or i == game[\"height\"]:\n",
    "                        return INFINITE\n",
    "                else:\n",
    "                    return INFINITE\n",
    "        else:\n",
    "            nr_white = 0\n",
    "            while i < game[\"height\"] and not table[i][col]:\n",
    "                i = i + 1\n",
    "                nr_white = nr_white + 1\n",
    "            if i == game[\"height\"] and constraint:\n",
    "                needed_space = len(constraint) + sum(constraint)\n",
    "                if len(constraint) == nr_constraint:\n",
    "                    needed_space = needed_space - 1\n",
    "                if needed_space > nr_white:\n",
    "                    return INFINITE\n",
    "            if i == game[\"height\"] and not constraint:\n",
    "                return score\n",
    "    return score\n",
    "\n",
    "\n",
    "def column_heuristic(node):\n",
    "    (table, _) = node\n",
    "    constraints = game[\"columns\"]\n",
    "    total_blocks = 0\n",
    "    for constraint in constraints:\n",
    "        total_blocks = total_blocks + sum(constraint)\n",
    "\n",
    "    corect_groups = 1.0\n",
    "\n",
    "    for col_index in range(game[\"width\"]):\n",
    "        c = game[\"columns\"][col_index]\n",
    "\n",
    "        score = get_col_score(table, col_index, c)\n",
    "\n",
    "        if score == INFINITE:\n",
    "            return INFINITE\n",
    "\n",
    "        corect_groups = corect_groups + score\n",
    "\n",
    "    return (float(total_blocks) - float(node[1])) / float(corect_groups)\n",
    "\n",
    "def get_line_score(table, line, constraint):\n",
    "    j = 0\n",
    "    score = 0.0\n",
    "\n",
    "    nr_constraint = len(constraint)\n",
    "\n",
    "    while j < game[\"width\"]:\n",
    "        if table[line][j]:\n",
    "            if not constraint:\n",
    "                return INFINITE\n",
    "            else:\n",
    "                nr_black = 0\n",
    "                while j < game[\"width\"] and table[line][j]:\n",
    "                    nr_black = nr_black + 1\n",
    "                    j = j + 1\n",
    "                if nr_black == constraint[0]:\n",
    "                    score = score + float(constraint[0])\n",
    "                    constraint = constraint[1:]\n",
    "                    if j == game[\"width\"] and constraint:\n",
    "                        return INFINITE\n",
    "                    continue\n",
    "                elif nr_black < constraint[0]:\n",
    "                    needed_space = constraint[0] - nr_black + len(constraint[1:]) + sum(constraint[1:])\n",
    "                    while j < game[\"width\"] and not table[line][j]:\n",
    "                        needed_space = needed_space - 1\n",
    "                        j = j + 1\n",
    "                    if needed_space <= 0 and j == game[\"width\"]:\n",
    "                        return score + float(nr_black)\n",
    "                    elif needed_space > 0 or j == game[\"width\"]:\n",
    "                        return INFINITE\n",
    "                else:\n",
    "                    return INFINITE\n",
    "        else:\n",
    "            nr_white = 0\n",
    "            while j < game[\"width\"] and not table[line][j]:\n",
    "                j = j + 1\n",
    "                nr_white = nr_white + 1\n",
    "            if j == game[\"width\"] and constraint:\n",
    "                needed_space = len(constraint) + sum(constraint)\n",
    "                if len(constraint) == nr_constraint:\n",
    "                    needed_space = needed_space - 1\n",
    "                if needed_space > nr_white:\n",
    "                    return INFINITE\n",
    "            if j == game[\"width\"] and not constraint:\n",
    "                return score\n",
    "    return score\n",
    "\n",
    "def line_heuristic(node):\n",
    "    (table, _) = node\n",
    "    constraints = game[\"rows\"]\n",
    "    total_blocks = 0\n",
    "    for constraint in constraints:\n",
    "        total_blocks = total_blocks + sum(constraint)\n",
    "\n",
    "    corect_groups = 1.0\n",
    "\n",
    "    for row_index in range(game[\"height\"]):\n",
    "        c = game[\"rows\"][row_index]\n",
    "\n",
    "        score = get_line_score(table, row_index, c)\n",
    "\n",
    "        if score == INFINITE:\n",
    "            return INFINITE\n",
    "\n",
    "        corect_groups = corect_groups + score\n",
    "    return (float(total_blocks) - float(node[1])) / float(corect_groups)\n",
    "\n",
    "def col_and_line_heuristic(node):\n",
    "    (table, _) = node\n",
    "    constraints = game[\"rows\"]\n",
    "    total_blocks = 0\n",
    "    for constraint in constraints:\n",
    "        total_blocks = total_blocks + sum(constraint)\n",
    "\n",
    "    corect_groups = 1.0\n",
    "\n",
    "    for row_index in range(game[\"height\"]):\n",
    "        c = game[\"rows\"][row_index]\n",
    "\n",
    "        score = get_line_score(table, row_index, c)\n",
    "\n",
    "        if score == INFINITE:\n",
    "            return INFINITE\n",
    "\n",
    "        corect_groups = corect_groups + score\n",
    "    \n",
    "    for col_index in range(game[\"width\"]):\n",
    "        c = game[\"columns\"][col_index]\n",
    "\n",
    "        score = get_col_score(table, col_index, c)\n",
    "\n",
    "        if score == INFINITE:\n",
    "            return INFINITE\n",
    "\n",
    "        corect_groups = corect_groups + score\n",
    "\n",
    "    return (float(total_blocks) - float(node[1])) / float(corect_groups)\n",
    "\n",
    "    "
   ]
  },
  {
   "cell_type": "markdown",
   "metadata": {},
   "source": [
    "#### Implementare A*"
   ]
  },
  {
   "cell_type": "code",
   "execution_count": 12,
   "metadata": {},
   "outputs": [],
   "source": [
    "from heapq import heappush, heappop\n",
    "\n",
    "def aStar(h):\n",
    "    frontier = []\n",
    "    root = create_root()\n",
    "    heappush(frontier, (h(root), root))\n",
    "    discovered = {get_id(root): (None, 0)}\n",
    "    while frontier:\n",
    "        (_, node) = heappop(frontier)\n",
    "        cost = discovered[get_id(node)][1]\n",
    "        (table, crt_black) = node\n",
    "        if crt_black == game[\"total_black\"] and check_solution(node):\n",
    "            return node\n",
    "        neighbours = get_neighbours(node)\n",
    "        for neighbour in neighbours:\n",
    "            cost_new = 1.0 + cost\n",
    "            neigh_id = get_id(neighbour)\n",
    "            if neigh_id in discovered:\n",
    "                continue\n",
    "            else:\n",
    "                discovered[neigh_id] = (node, cost_new)\n",
    "                heappush(frontier, (cost_new + h(neighbour), neighbour))\n",
    "    return None\n"
   ]
  },
  {
   "cell_type": "code",
   "execution_count": 13,
   "metadata": {},
   "outputs": [
    {
     "name": "stdout",
     "output_type": "stream",
     "text": [
      "([[True, True, False, True, True], [True, True, False, True, True], [False, False, False, False, False], [True, False, False, False, True], [False, True, True, True, False]], 13)\n"
     ]
    }
   ],
   "source": [
    "print(aStar(line_heuristic))"
   ]
  },
  {
   "cell_type": "code",
   "execution_count": 14,
   "metadata": {},
   "outputs": [
    {
     "name": "stdout",
     "output_type": "stream",
     "text": [
      "([[True, True, False, True, True], [True, True, False, True, True], [False, False, False, False, False], [True, False, False, False, True], [False, True, True, True, False]], 13)\n"
     ]
    }
   ],
   "source": [
    "print(aStar(column_heuristic))"
   ]
  },
  {
   "cell_type": "code",
   "execution_count": 15,
   "metadata": {},
   "outputs": [
    {
     "name": "stdout",
     "output_type": "stream",
     "text": [
      "([[True, True, False, True, True], [True, True, False, True, True], [False, False, False, False, False], [True, False, False, False, True], [False, True, True, True, False]], 13)\n"
     ]
    }
   ],
   "source": [
    "print(aStar(col_and_line_heuristic))"
   ]
  },
  {
   "cell_type": "markdown",
   "metadata": {},
   "source": [
    "Se poate vedea cu ochiul liber ca aStar in acest caz este superior metodelor clasice de cautare (dfs, bfs)\n",
    "- Cea mai proasta heuristica s-a dovedit a fi column_heuristic (acest lucru se poate datora si din faptul ca pentru a calcula trebuiesc iterate coloanele si asta nu prea ajuta la nivelul de cache)\n",
    "- A doua cea mai buna este line_heuristic (o parte se datoreaza si datorita iterarii pe linii deci datele sunt asezate mai bine in cache)\n",
    "- Cea mai buna varianta s-a dovedit a fi o combinatie a celor doua (chiar daca vom itera si coloanele ne ajuta mult sa \"arunca\" la finalul priority queue-ului solutiile care nu respecta constrainturile jocului)"
   ]
  },
  {
   "cell_type": "markdown",
   "metadata": {},
   "source": [
    "#### Grafice\n",
    "Din pacate nu am putut realiza grafice pe motiv ca doar primele doua teste functioneaza pe implementarea mea (avand in vedere ca fiecare nod are un numar foarte mare de vecini deci si complexitatea e pe masura (si spatiala -> ajungand la pe putin 12 gb ram si temporala -> durand mai mult de 15 minute))"
   ]
  },
  {
   "cell_type": "markdown",
   "metadata": {},
   "source": [
    "#### Implementarea MAC"
   ]
  },
  {
   "cell_type": "markdown",
   "metadata": {},
   "source": [
    "Voi reimplementa functiile de baza (get_neighbours, create_root, etc) pentru a se putea folosi mai usor pentru implementarea de mac\n",
    "Ma voi baza pe crearea tabelelor generand toate posibilitatile unei linii (generare corecta luand in verdere constrangerile)\n",
    "Deci rootul va fi o tabela goala (fara nicio linie) si numarul de linii adica 0\n",
    "\n",
    "Pe parcursul programului voi completa nodul curent cu toate posibilitatile urmatoarei linii\n",
    "\n",
    "Deci:\n",
    "create_root_mac -> va intoarce o tabla goala si 0\n",
    "\n",
    "generate_rows -> va genera toate posibilitatile de linie avand ca parametri constrangerile\n",
    "\n",
    "check_solution_mac -> este nevoie de o noua functie de check_solution pe motiv ca va trebui verificat doar coloanele (nu si liniile pentru ca stiu sigur ca sunt corect fiind generate de mine)\n"
   ]
  },
  {
   "cell_type": "code",
   "execution_count": 17,
   "metadata": {},
   "outputs": [],
   "source": [
    "def create_root_mac():\n",
    "    return ([], 0)\n",
    "\n",
    "\n",
    "def generate_rows(constraints, width):\n",
    "    nr_constraints = len(constraints)\n",
    "    if nr_constraints == 0:\n",
    "        return [[False] * width]\n",
    "    rows = []\n",
    "    min_needed_spaces = sum(constraints) + len(constraints) - 1\n",
    "    trailing_white = 0\n",
    "    while trailing_white + min_needed_spaces <= width:\n",
    "        new_width = width - trailing_white - constraints[0]\n",
    "        if nr_constraints > 1:\n",
    "            new_width = new_width - 1\n",
    "        right_parts = generate_rows(constraints[1:], new_width)\n",
    "        left_part = trailing_white * [False] + constraints[0] * [True]\n",
    "        if nr_constraints > 1:\n",
    "            left_part = left_part + [False]\n",
    "        combinations = list(map(lambda x: copy.copy(left_part) + x, right_parts))\n",
    "        rows = rows + combinations\n",
    "        trailing_white = trailing_white + 1\n",
    "    return rows\n",
    "\n",
    "def check_solution_mac(node, my_game):\n",
    "    if not node[1] == my_game[\"height\"]:\n",
    "        return False\n",
    "    table = node[0]\n",
    "    for col in range(my_game[\"width\"]):\n",
    "        constraints = my_game[\"columns\"][col]\n",
    "        i = 0\n",
    "        while i < my_game[\"height\"]:\n",
    "            if not constraints:\n",
    "                while i < my_game[\"height\"]:\n",
    "                    if table[i][col]:\n",
    "                        return False\n",
    "                    i = i + 1\n",
    "                break\n",
    "            if table[i][col]:\n",
    "                nr_blocks = 0\n",
    "                while i < my_game[\"height\"] and table[i][col]:\n",
    "                    nr_blocks = nr_blocks + 1\n",
    "                    i = i + 1\n",
    "                if nr_blocks == constraints[0]:\n",
    "                    constraints = constraints[1:]\n",
    "                    continue\n",
    "                else:\n",
    "                    return False\n",
    "            else:\n",
    "                while i < my_game[\"height\"] and not table[i][col]:\n",
    "                    i = i + 1\n",
    "        if constraints:\n",
    "            return False\n",
    "    return True\n",
    "\n",
    "def check_intermediate(node, my_game):\n",
    "    if node[1] == my_game[\"total_black\"]:\n",
    "        return check_solution_mac(node, my_game)\n",
    "    table = node[0]\n",
    "    nr_lines = node[1]\n",
    "    for col in range(my_game[\"width\"]):\n",
    "        constraints = my_game[\"columns\"][col]\n",
    "        i = 0\n",
    "        while i < nr_lines:\n",
    "            if not constraints:\n",
    "                while i < nr_lines:\n",
    "                    if table[i][col]:\n",
    "                        return False\n",
    "                    i = i + 1\n",
    "                break\n",
    "            if table[i][col]:\n",
    "                nr_blocks = 0\n",
    "                while i < nr_lines and table[i][col]:\n",
    "                    nr_blocks = nr_blocks + 1\n",
    "                    i = i + 1\n",
    "                if nr_blocks == constraints[0]:\n",
    "                    constraints = constraints[1:]\n",
    "                    continue\n",
    "                elif nr_blocks > constraints[0]:\n",
    "                    return False\n",
    "                else:\n",
    "                    while i < nr_lines:\n",
    "                        if table[i][col]:\n",
    "                            return False\n",
    "                        i = i + 1\n",
    "                    break\n",
    "            else:\n",
    "                while i < nr_lines and not table[i][col]:\n",
    "                    i = i + 1\n",
    "    return True\n",
    "\n",
    "\n",
    "def get_neighbours_mac(node, my_game):\n",
    "    if node[1] == my_game[\"height\"]:\n",
    "        return []\n",
    "    table = node[0]\n",
    "    next_row = node[1]\n",
    "    neighbours = []\n",
    "    new_rows = generate_rows(my_game[\"rows\"][next_row], my_game[\"width\"])\n",
    "    for i in range(len(new_rows)):\n",
    "        new_neighbour = (copy.deepcopy(node[0]), node[1] + 1)\n",
    "        new_neighbour[0].append(new_rows[i])\n",
    "        neighbours.append(new_neighbour)\n",
    "    return list(filter(lambda x: check_intermediate(x, my_game), neighbours))   #aici ma asigur de arc-consistenta"
   ]
  },
  {
   "cell_type": "markdown",
   "metadata": {},
   "source": [
    "Implementarea functiei mac pt gasirea solutiei"
   ]
  },
  {
   "cell_type": "code",
   "execution_count": 18,
   "metadata": {},
   "outputs": [
    {
     "name": "stdout",
     "output_type": "stream",
     "text": [
      "Numarul total de celule negre: 13\n",
      "([], 0)\n",
      "[True, True, False, True, True]\n",
      "[True, True, False, True, True]\n",
      "[False, False, False, False, False]\n",
      "[True, False, False, False, True]\n",
      "[False, True, True, True, False]\n"
     ]
    }
   ],
   "source": [
    "def solve_mac(test_name):\n",
    "    my_game = read_json(test_name)\n",
    "    queue = [create_root_mac()]\n",
    "    print(create_root_mac())\n",
    "    while queue:\n",
    "        node = queue[0]\n",
    "        queue.pop(0)\n",
    "        neighbours = get_neighbours_mac(node, my_game)\n",
    "        for neighbour in neighbours:\n",
    "            if check_solution_mac(neighbour, my_game):\n",
    "                return neighbour\n",
    "            else:\n",
    "                queue.append(neighbour)\n",
    "    return None\n",
    "\n",
    "sol = solve_mac(\"test1\")\n",
    "for row in sol[0]:\n",
    "    print(row)"
   ]
  },
  {
   "cell_type": "code",
   "execution_count": 19,
   "metadata": {},
   "outputs": [
    {
     "name": "stdout",
     "output_type": "stream",
     "text": [
      "Numarul total de celule negre: 16\n",
      "([], 0)\n",
      "[True, False, True, False, True]\n",
      "[True, True, True, True, True]\n",
      "[False, True, True, True, False]\n",
      "[False, True, False, True, False]\n",
      "[False, True, True, True, False]\n"
     ]
    }
   ],
   "source": [
    "sol = solve_mac(\"test2\")\n",
    "for row in sol[0]:\n",
    "    print(row)"
   ]
  },
  {
   "cell_type": "code",
   "execution_count": 20,
   "metadata": {},
   "outputs": [
    {
     "name": "stdout",
     "output_type": "stream",
     "text": [
      "Numarul total de celule negre: 46\n",
      "([], 0)\n",
      "[False, False, False, False, False, False, True, True, True, True]\n",
      "[False, False, False, True, True, True, False, False, False, True]\n",
      "[False, False, False, True, False, False, False, True, True, True]\n",
      "[False, False, False, True, True, True, True, False, False, True]\n",
      "[False, False, False, True, False, False, False, False, False, True]\n",
      "[False, False, False, True, False, False, False, True, True, True]\n",
      "[False, True, True, True, False, False, True, True, True, True]\n",
      "[True, True, True, True, False, False, True, True, True, True]\n",
      "[True, True, True, True, False, False, False, True, True, False]\n",
      "[False, True, True, False, False, False, False, False, False, False]\n"
     ]
    }
   ],
   "source": [
    "sol = solve_mac(\"test3\")\n",
    "for row in sol[0]:\n",
    "    print(row)"
   ]
  },
  {
   "cell_type": "code",
   "execution_count": 21,
   "metadata": {},
   "outputs": [
    {
     "name": "stdout",
     "output_type": "stream",
     "text": [
      "Numarul total de celule negre: 86\n",
      "([], 0)\n",
      "[False, False, False, False, False, False, False, False, False, False, False, False, True, True, True]\n",
      "[False, False, False, False, False, True, True, True, True, False, False, True, True, False, True]\n",
      "[False, False, False, True, True, True, False, False, True, False, False, True, False, True, False]\n",
      "[True, True, True, False, True, False, False, True, True, False, False, True, False, False, False]\n",
      "[True, True, False, False, False, False, False, True, False, False, False, True, True, False, False]\n",
      "[False, True, True, True, True, False, False, True, True, False, False, False, True, True, False]\n",
      "[False, False, False, False, True, True, False, False, True, True, False, False, False, True, True]\n",
      "[False, False, False, False, False, True, False, False, False, True, True, True, False, False, True]\n",
      "[False, False, False, False, False, True, True, False, False, False, False, True, True, False, True]\n",
      "[False, False, False, True, True, True, True, False, False, False, False, False, True, True, True]\n",
      "[False, False, False, True, False, True, False, False, True, True, False, False, False, True, True]\n",
      "[False, False, False, False, False, True, False, False, True, False, False, False, False, True, False]\n",
      "[False, False, False, False, False, False, True, False, True, False, False, False, False, True, False]\n",
      "[False, False, False, False, False, True, True, True, True, True, False, False, True, True, False]\n",
      "[False, False, False, True, True, True, False, True, True, False, True, True, True, False, False]\n"
     ]
    }
   ],
   "source": [
    "sol = solve_mac(\"test4\")\n",
    "for row in sol[0]:\n",
    "    print(row)"
   ]
  },
  {
   "cell_type": "markdown",
   "metadata": {},
   "source": [
    "In concluzie, se poate vedea cu ochiul liber ca cea mai buna implementare este MAC din ambele puncte de vedere (spatial si temporal).\n",
    "Acest lucru se datoreaza numarului mic de vecini pe care MAC ni-l ofera (deci vom explora mult mai putin comparativ cu celelalte variante)\n"
   ]
  }
 ],
 "metadata": {
  "interpreter": {
   "hash": "85189ab8b78d826c09ff9ab10c4584e27830bf971eaa4bb9120153d9fc1045f5"
  },
  "kernelspec": {
   "display_name": "Python 3.9.6 64-bit",
   "language": "python",
   "name": "python3"
  },
  "language_info": {
   "codemirror_mode": {
    "name": "ipython",
    "version": 3
   },
   "file_extension": ".py",
   "mimetype": "text/x-python",
   "name": "python",
   "nbconvert_exporter": "python",
   "pygments_lexer": "ipython3",
   "version": "3.9.6"
  },
  "orig_nbformat": 4
 },
 "nbformat": 4,
 "nbformat_minor": 2
}
